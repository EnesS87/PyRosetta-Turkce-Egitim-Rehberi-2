{
  "nbformat": 4,
  "nbformat_minor": 0,
  "metadata": {
    "colab": {
      "provenance": [],
      "authorship_tag": "ABX9TyPpDPhN/pdasVr4irW5xcg6",
      "include_colab_link": true
    },
    "kernelspec": {
      "name": "python3",
      "display_name": "Python 3"
    },
    "language_info": {
      "name": "python"
    }
  },
  "cells": [
    {
      "cell_type": "markdown",
      "metadata": {
        "id": "view-in-github",
        "colab_type": "text"
      },
      "source": [
        "<a href=\"https://colab.research.google.com/github/EnesS87/PyRosetta-Turkce-Egitim-Rehberi-2/blob/main/Pyrosetta_Tutorial_2_EnesSivri.ipynb\" target=\"_parent\"><img src=\"https://colab.research.google.com/assets/colab-badge.svg\" alt=\"Open In Colab\"/></a>"
      ]
    },
    {
      "cell_type": "markdown",
      "source": [
        "# Pose Temelleri"
      ],
      "metadata": {
        "id": "kpjVY9rhFv_1"
      }
    },
    {
      "cell_type": "markdown",
      "source": [
        "## İhtiyacımız olan library'leri indirerek başlıyoruz"
      ],
      "metadata": {
        "id": "kZ7QjPR_It9a"
      }
    },
    {
      "cell_type": "code",
      "execution_count": null,
      "metadata": {
        "id": "SNOOZbRCDbMR"
      },
      "outputs": [],
      "source": [
        "!pip install pyrosettacolabsetup"
      ]
    },
    {
      "cell_type": "code",
      "source": [
        "!pip install pyrosettacolabsetup\n",
        "!pip install pyrosettacolabsetup py3dmol git+https://github.com/RosettaCommons/pyrosetta_viewer3d.git\n",
        "!pip install py3Dmol nglview"
      ],
      "metadata": {
        "collapsed": true,
        "id": "WDZ1lQDnGYEM"
      },
      "execution_count": null,
      "outputs": []
    },
    {
      "cell_type": "code",
      "source": [
        "import pyrosettacolabsetup; pyrosettacolabsetup.install_pyrosetta()\n",
        "import pyrosetta; pyrosetta.init()\n",
        "from pyrosetta import *\n",
        "import pyrosetta.distributed.io as io\n",
        "import nglview as nv\n",
        "import numpy as np\n",
        "\n",
        "pyrosetta.init()"
      ],
      "metadata": {
        "collapsed": true,
        "id": "lTYfRBkaIi1s"
      },
      "execution_count": null,
      "outputs": []
    },
    {
      "cell_type": "markdown",
      "source": [
        "## Kod Açıklaması\n",
        "\n",
        "PyRosetta'yı kullanmaya başlamadan önce, onu başlatmanız gerekmektedir. Bu, init() fonksiyonunu çağırarak yapılır."
      ],
      "metadata": {
        "id": "jj8ECoFbI-Wm"
      }
    },
    {
      "cell_type": "markdown",
      "source": [
        "***"
      ],
      "metadata": {
        "id": "ztLLYhTEJHMv"
      }
    },
    {
      "cell_type": "markdown",
      "source": [
        "## PyRosetta ile PafA kristal Yapısını İnceleme"
      ],
      "metadata": {
        "id": "pdBQcoGmJWbO"
      }
    },
    {
      "cell_type": "code",
      "source": [
        "!wget https://files.rcsb.org/download/5TJ3.pdb"
      ],
      "metadata": {
        "collapsed": true,
        "id": "M9jsMquKJ2de"
      },
      "execution_count": null,
      "outputs": []
    },
    {
      "cell_type": "code",
      "source": [
        "from pyrosetta.toolbox import cleanATOM\n",
        "\n",
        "cleanATOM(\"5TJ3.pdb\")\n",
        "\n",
        "pose = pose_from_pdb(\"5TJ3.pdb\")\n",
        "pose_clean = pose_from_pdb(\"5TJ3.clean.pdb\")"
      ],
      "metadata": {
        "collapsed": true,
        "id": "Z9HOnOg-Iqws"
      },
      "execution_count": null,
      "outputs": []
    },
    {
      "cell_type": "code",
      "source": [
        "pose_clean.sequence()"
      ],
      "metadata": {
        "id": "dW0uiHDcJp1W"
      },
      "execution_count": null,
      "outputs": []
    },
    {
      "cell_type": "code",
      "source": [
        "pose_clean.annotated_sequence()"
      ],
      "metadata": {
        "id": "7I1FPGsdMLXI"
      },
      "execution_count": null,
      "outputs": []
    },
    {
      "cell_type": "markdown",
      "source": [
        "## Kod Açıklaması\n",
        "\n",
        "Bugün, PyRosetta kullanarak PafA proteininin (PDB ID: 5tj3) kristal yapısına bakacağız. PafA, bir phosphate monoesterden phosphate grubunu çıkaran bir alkalen phosphatase enzimidir.  Bu yapıda, aktif bölgede substratı taklit etmek için modifiye edilmiş bir amino asit olan fosfotreonin kullanılmıştır.\n",
        "\n",
        "***!wget***\n",
        "\n",
        "* bu komut bir dosyayı internetten indirmek için kullanılır.\n",
        "\n",
        "***cleanATOM(\"5TJ3.pdb\")***\n",
        "\n",
        "* cleanATOM fonksiyonu, belirli bir formatta olmayan veya gereksiz bilgileri içeren atom kayıtlarını filtreler ve temizler. Bu işlem, özellikle Rosetta veya PyRosetta ile çalışırken daha temiz ve düzenli bir PDB dosyası elde etmek için kullanılır.\n",
        "\n",
        "* Bu kod asıl PDB dosyasına ek olarak başka bir dosya oluşturur\n",
        "\n",
        "***pose_clean = pose_from_pdb(\"5TJ3.clean.pdb\")***\n",
        "\n",
        "* Bu satır, temizlenmiş PDB dosyasını yükleyip bir Pose nesnesine atar. pose_from_pdb fonksiyonu, belirli bir PDB dosyasından protein yapısını yükler ve bir Pose nesnesi oluşturur. Bu Pose nesnesi, PyRosetta'nın moleküler modelleme ve simülasyonlar için kullandığı temel veri yapısıdır.\n",
        "\n",
        "***pose_clean.sequence()***\n",
        "\n",
        "* bu fonksiyon protein yapısının amino asit dizisini tek harfli amino asit kodlarıyla döndürür.\n",
        "\n",
        "***pose_clean.annotated_sequence()***\n",
        "\n",
        "* Bu fonksiyon, proteinin anotasyonlu (açıklamalı) amino asit dizisini döndürür. Anotasyonlu dizide, her bir amino asit kalıntısının pozisyonu ve varsa post-translasyonel modifikasyonları gibi ek bilgiler yer alır. Bu, dizinin yalnızca amino asit sırasını değil, aynı zamanda her kalıntının kimliğini ve pozisyonunu da gösterir.\n",
        "\n"
      ],
      "metadata": {
        "id": "bkLtuYi9MpcZ"
      }
    },
    {
      "cell_type": "markdown",
      "source": [
        "***"
      ],
      "metadata": {
        "id": "j_nvSSrqOY_5"
      }
    },
    {
      "cell_type": "code",
      "source": [
        "print(pose.total_residue())\n",
        "print(pose_clean.total_residue())"
      ],
      "metadata": {
        "id": "oR3Fro2fO8UI"
      },
      "execution_count": null,
      "outputs": []
    },
    {
      "cell_type": "code",
      "source": [
        "residue20 = pose.residue(20)\n",
        "print(residue20)"
      ],
      "metadata": {
        "collapsed": true,
        "id": "vD1KqC-kPJyx"
      },
      "execution_count": null,
      "outputs": []
    },
    {
      "cell_type": "markdown",
      "source": [
        "## Kod Açıklaması\n",
        "\n",
        "***total_residue()***\n",
        "\n",
        "* Bu fonksiyon, bir Pose nesnesindeki toplam residue sayısını döndürür. Bir proteinin residue sayısı, protein zincirindeki amino asitlerin sayısını temsil eder.\n",
        "\n",
        "***pose.residue(20)***\n",
        "\n",
        "* Bu komut, belirli bir pozisyondaki (bu örnekte 20. pozisyondaki) residue'yü elde etmek için kullanılır. pose nesnesi, bir protein yapısını temsil eden bir Pose nesnesidir ve residue fonksiyonu, belirli bir kalıntıya erişmenizi sağlar.\n",
        "\n",
        "\n"
      ],
      "metadata": {
        "id": "qasDPlEUPsXS"
      }
    },
    {
      "cell_type": "markdown",
      "source": [
        "***"
      ],
      "metadata": {
        "id": "3i-c0OAqRgRq"
      }
    },
    {
      "cell_type": "code",
      "source": [
        "print(pose.pdb_info().chain(24))\n",
        "print(pose.pdb_info().number(24))"
      ],
      "metadata": {
        "id": "SQEhH0rVPJ1Y"
      },
      "execution_count": null,
      "outputs": []
    },
    {
      "cell_type": "code",
      "source": [
        "print(pose.pdb_info().pdb2pose('A', 24))"
      ],
      "metadata": {
        "id": "Hs83768HPJ3-"
      },
      "execution_count": null,
      "outputs": []
    },
    {
      "cell_type": "code",
      "source": [
        "print(pose.pdb_info().pose2pdb(1))"
      ],
      "metadata": {
        "id": "lEhNESLqPJ62"
      },
      "execution_count": null,
      "outputs": []
    },
    {
      "cell_type": "code",
      "source": [
        "res_24 = pose.residue(24)\n",
        "print(res_24.name())\n",
        "print(res_24.is_charged())"
      ],
      "metadata": {
        "id": "yffF9ZQCPJ9L"
      },
      "execution_count": null,
      "outputs": []
    },
    {
      "cell_type": "markdown",
      "source": [
        "## Kod Açıklaması\n",
        "\n",
        "***print(pose.pdb_info().chain(24))***\n",
        "\n",
        "* pozisyonu 24. olan residue'nün bulunduğu zinciri (chain) yazdırır. Bir PDB dosyasında protein yapısı, genellikle zincirler (A, B, C, vb.) ile bölümlendirilir.\n",
        "\n",
        "***print(pose.pdb_info().number(24))***\n",
        "\n",
        "* pozisyonu 24. olan residue'nün PDB dosyasındaki sıra numarasını yazdırır. PDB dosyalarında, kalıntıların belirli bir sıra numarası vardır ve bu numara, PDB dosyasındaki sıra numarasını temsil eder.\n",
        "\n",
        "***print(pose.pdb_info().pdb2pose('A', 24))***\n",
        "\n",
        "* PDB dosyasındaki A zincirinde, 24. residue'nün pose nesnesindeki pozisyonunu yazdırır. pdb2pose fonksiyonu, PDB koordinat sisteminden PyRoseeta koordinat sistemine bir dönüşüm yapar.\n",
        "\n",
        "***print(pose.pdb_info().pose2pdb(1))***\n",
        "\n",
        "* PyRosetta pose nesnesindeki 1. pozisyondaki residue'nün PDB dosyasındaki konumunu yazdırır. pose2pdb fonksiyonu, PyRosetta koordinat sisteminden PDB koordinat sistemine bir dönüşüm yapar.\n",
        "\n",
        "***res_24 = pose.residue(24)***\n",
        "\n",
        "* Bu satır, 24. pozisyondaki kalıntıyı bir değişkene atar. Bu, 24. pozisyondaki Residue nesnesini temsil eder.\n",
        "\n",
        "***print(res_24.name())***\n",
        "\n",
        "* Bu satır, 24. pozisyondaki kalıntının adını yazdırır. Örneğin, bir amino asit adı olabilir (örneğin, \"ALA\" alanin için).\n",
        "\n",
        "***print(res_24.is_charged())***\n",
        "\n",
        "* Bu satır, 24. pozisyondaki kalıntının yüklü olup olmadığını kontrol eder ve sonucunu yazdırır. Eğer kalıntı yüklü ise True, değilse False döndürür.\n"
      ],
      "metadata": {
        "id": "z6TfebbySeD1"
      }
    },
    {
      "cell_type": "markdown",
      "source": [
        "***"
      ],
      "metadata": {
        "id": "IDyXCg31Ujq3"
      }
    },
    {
      "cell_type": "markdown",
      "source": [
        "Ve Son...\n",
        "\n",
        "* https://github.com/EnesS87\n",
        "* https://www.linkedin.com/in/enes-sivri-6a523617a/"
      ],
      "metadata": {
        "id": "gHSDtoCwO1XR"
      }
    }
  ]
}